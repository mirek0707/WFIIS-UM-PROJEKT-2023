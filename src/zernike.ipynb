{
 "cells": [
  {
   "cell_type": "code",
   "execution_count": 17,
   "metadata": {},
   "outputs": [],
   "source": [
    "import cv2\n",
    "import mahotas\n",
    "import matplotlib.pyplot as plt\n",
    "import numpy as np\n",
    "\n",
    "from sklearn import preprocessing\n",
    "from sklearn.decomposition import PCA\n",
    "from sklearn.metrics import accuracy_score, confusion_matrix, ConfusionMatrixDisplay\n",
    "from sklearn.model_selection import train_test_split\n",
    "from sklearn.svm import SVC"
   ]
  },
  {
   "cell_type": "code",
   "execution_count": 18,
   "metadata": {},
   "outputs": [],
   "source": [
    "# Source: https://github.com/credo-science/CREDO-ML/blob/main/offline_trigger/Wavelet_BINARY_ALFA.ipynb\n",
    "def loadData(path, verbose=True):\n",
    "\n",
    "  import cv2\n",
    "  import glob\n",
    "\n",
    "  dots = []\n",
    "  lines = []\n",
    "  worms = []\n",
    "  artefacts = []\n",
    "\n",
    "  for img in glob.glob(path+\"hits_votes_4_Dots/*.png\"):\n",
    "      n = cv2.imread(img)\n",
    "      dots.append(n)\n",
    "  target_dots = ['dots' for _ in dots]\n",
    "\n",
    "  for img in glob.glob(path+\"hits_votes_4_Lines/*.png\"):\n",
    "      n = cv2.imread(img)\n",
    "      lines.append(n)\n",
    "  target_lines = ['lines' for _ in lines]\n",
    "\n",
    "  for img in glob.glob(path+\"hits_votes_4_Worms/*.png\"):\n",
    "      n = cv2.imread(img)\n",
    "      worms.append(n)\n",
    "  target_worms = ['worms' for _ in worms]\n",
    "\n",
    "#   for img in glob.glob(path+\"artefacts/*.png\"):\n",
    "#       n = cv2.imread(img)\n",
    "#       artefacts.append(n)\n",
    "#   target_artefacts = [3 for _ in artefacts]\n",
    "\n",
    "  images=dots+lines+worms#+artefacts\n",
    "\n",
    "  #target_signals_binary = [0 for _ in (dots+lines+worms)]\n",
    "  #target_artefacts_binary = [1 for _ in artefacts]\n",
    "\n",
    "  #targets=target_signals_binary+target_artefacts_binary\n",
    "  targets=target_dots+target_lines+target_worms#+target_artefacts\n",
    "\n",
    "  if verbose:\n",
    "    print(len(images),len(targets))\n",
    "    print(images[0].shape)\n",
    "    print(len(dots), len(lines), len(worms), len(artefacts))\n",
    "\n",
    "\n",
    "  return (images, targets)"
   ]
  },
  {
   "cell_type": "code",
   "execution_count": 19,
   "metadata": {},
   "outputs": [],
   "source": [
    "def pca_reduction(X: np.ndarray, n_components: int, verbose: bool = True):\n",
    "    \"\"\"Function for Principal Component Analysis (PCA).\n",
    "\n",
    "    Args:\n",
    "        X (np.ndarray): Input data.\n",
    "        n_components (int): Number of components for PCA reduction.\n",
    "        verbose (bool): When True print sum of explained variance ratio.\n",
    "\n",
    "    Returns:\n",
    "        ret (np.ndarray): Data after PCA.\n",
    "    \"\"\"\n",
    "    X_norm = preprocessing.normalize(X)\n",
    "\n",
    "    pca = PCA(n_components=n_components)\n",
    "    pca.fit(X_norm)\n",
    "\n",
    "    ret = pca.transform(X_norm)\n",
    "\n",
    "    if verbose:\n",
    "        print(f'Sum of explained variance ratio: {pca.explained_variance_ratio_.sum()}')\n",
    "\n",
    "    return ret"
   ]
  },
  {
   "cell_type": "code",
   "execution_count": 20,
   "metadata": {},
   "outputs": [],
   "source": [
    "def preprocess_data(X: list, blur_ksize: tuple, thresh_min: int, thresh_max: int, zernike_radius: int, zernike_degree: int, pca_num_components: int, pca_verbose: bool) -> np.ndarray:\n",
    "    \"\"\"Preprocess data.\n",
    "\n",
    "    Args:\n",
    "        X (list): Input data.\n",
    "        blur_ksize (tuple): Blur kernel size.\n",
    "        thresh_min (int): Threshold minimal value.\n",
    "        thresh_max (int): Threshold maximal value.\n",
    "        zernike_radius (int): Zernike moments radius.\n",
    "        zernike_degree (int): Zernike moments degree.\n",
    "        pca_num_components (int): Number of components for PCA reduction.\n",
    "        pca_verbose (bool): When True PCA prints sum of explained variance ratio.\n",
    "\n",
    "    Returns:\n",
    "        ret (np.ndarray): Preprocessed data.\n",
    "    \"\"\"\n",
    "    dim: int = mahotas.features.zernike_moments(\n",
    "        cv2.cvtColor(X[0], cv2.COLOR_RGB2GRAY), zernike_radius, zernike_degree\n",
    "        ).shape[0]\n",
    "    \n",
    "    ret: np.ndarray = np.zeros((len(X), dim))\n",
    "    for i in range(len(X)):\n",
    "\n",
    "        # Preprocess image before extracting zernike moments\n",
    "        img: np.ndarray = cv2.cvtColor(X[i], cv2.COLOR_RGB2GRAY)\n",
    "        img = cv2.GaussianBlur(img, blur_ksize, 0)\n",
    "        _, img = cv2.threshold(img, thresh_min, thresh_max, cv2.THRESH_BINARY + cv2.THRESH_OTSU)\n",
    "        \n",
    "        # Extract zernike moments\n",
    "        zernike: np.ndarray = mahotas.features.zernike_moments(img, zernike_radius, zernike_degree)\n",
    "        \n",
    "        ret[i,:] = zernike\n",
    "    \n",
    "    # PCA dimensionality reduction\n",
    "    ret = pca_reduction(ret, pca_num_components, pca_verbose)\n",
    "        \n",
    "    return ret"
   ]
  },
  {
   "cell_type": "code",
   "execution_count": 21,
   "metadata": {},
   "outputs": [],
   "source": [
    "def plotConfusionMatrix(y_test, y_pred, model):\n",
    "    \"\"\"Function for displaying confusion matrix\n",
    "\n",
    "    Args:\n",
    "        y_test (list): Target classes.\n",
    "        y_pred (list): Predicted classes.\n",
    "        model (ClassifierMixin): Model used for prediction.\n",
    "    \"\"\"\n",
    "    cm = confusion_matrix(y_test, y_pred, labels=model.classes_)\n",
    "    disp = ConfusionMatrixDisplay(confusion_matrix=cm, display_labels=model.classes_)\n",
    "    disp.plot()"
   ]
  },
  {
   "cell_type": "code",
   "execution_count": 22,
   "metadata": {},
   "outputs": [],
   "source": [
    "path=\"../data/hit-images-final/\"\n",
    "\n",
    "X_, y = loadData(path, False)"
   ]
  },
  {
   "cell_type": "code",
   "execution_count": 101,
   "metadata": {},
   "outputs": [
    {
     "name": "stdout",
     "output_type": "stream",
     "text": [
      "Sum of explained variance ratio: 0.937706109365419\n"
     ]
    }
   ],
   "source": [
    "blur_ksize = (5, 5)\n",
    "thresh_min = 0\n",
    "thresh_max = 255 \n",
    "zernike_radius = 30 \n",
    "zernike_degree = 28\n",
    "pca_num_components = 8\n",
    "pca_verbose = True\n",
    "\n",
    "X = preprocess_data(X_, blur_ksize, thresh_min, thresh_max, zernike_radius, zernike_degree, pca_num_components, pca_verbose)\n",
    "X_train, X_test, y_train, y_test = train_test_split(X, y, test_size=0.2, random_state=0)"
   ]
  },
  {
   "cell_type": "code",
   "execution_count": 102,
   "metadata": {},
   "outputs": [
    {
     "name": "stdout",
     "output_type": "stream",
     "text": [
      "Training accuracy: 0.9147208121827411\n",
      "Test accuracy: 0.9433198380566802\n"
     ]
    },
    {
     "data": {
      "image/png": "[encoded data removed]",
      "text/plain": [
       "<Figure size 640x480 with 2 Axes>"
      ]
     },
     "metadata": {},
     "output_type": "display_data"
    }
   ],
   "source": [
    "svc = SVC()\n",
    "svc.fit(X_train, y_train)\n",
    "\n",
    "y_pred = svc.predict(X_test)\n",
    "train_accuracy = accuracy_score(y_train, svc.predict(X_train))\n",
    "test_accuracy = accuracy_score(y_test, y_pred)\n",
    "\n",
    "print(f'Training accuracy: {train_accuracy}\\nTest accuracy: {test_accuracy}')\n",
    "plotConfusionMatrix(y_test, y_pred, svc)"
   ]
  }
 ],
 "metadata": {
  "kernelspec": {
   "display_name": ".venv",
   "language": "python",
   "name": "python3"
  },
  "language_info": {
   "codemirror_mode": {
    "name": "ipython",
    "version": 3
   },
   "file_extension": ".py",
   "mimetype": "text/x-python",
   "name": "python",
   "nbconvert_exporter": "python",
   "pygments_lexer": "ipython3",
   "version": "3.9.13"
  },
  "orig_nbformat": 4
 },
 "nbformat": 4,
 "nbformat_minor": 2
}
